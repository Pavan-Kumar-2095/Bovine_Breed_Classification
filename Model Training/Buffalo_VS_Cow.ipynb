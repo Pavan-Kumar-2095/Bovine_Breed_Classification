{
 "cells": [
  {
   "cell_type": "code",
   "execution_count": 5,
   "id": "80f746a7-8752-47d6-87b0-0399b71c233d",
   "metadata": {},
   "outputs": [
    {
     "name": "stdout",
     "output_type": "stream",
     "text": [
      "✅ Dataset split completed successfully!\n"
     ]
    }
   ],
   "source": [
    "import os\n",
    "import shutil\n",
    "import random\n",
    "\n",
    "\n",
    "\n",
    "def split_dataset(original_dir, output_dir, split_ratio=0.8):\n",
    "    classes = ['buffalo', 'cow']\n",
    "\n",
    "    for class_name in classes:\n",
    "        class_path = os.path.join(original_dir, class_name)\n",
    "        if not os.path.isdir(class_path):\n",
    "            print(f\"⚠️ Skipping missing class folder: {class_path}\")\n",
    "            continue\n",
    "\n",
    "        for breed in os.listdir(class_path):\n",
    "            breed_path = os.path.join(class_path, breed)\n",
    "            if not os.path.isdir(breed_path):\n",
    "                continue\n",
    "\n",
    "            images = [f for f in os.listdir(breed_path) if f.lower().endswith(('.jpg', '.jpeg', '.png'))]\n",
    "            if not images:\n",
    "                continue\n",
    "\n",
    "            random.shuffle(images)\n",
    "            split_index = int(len(images) * split_ratio)\n",
    "\n",
    "            for phase in ['train', 'val']:\n",
    "                dest_dir = os.path.join(output_dir, phase, class_name, breed)\n",
    "                os.makedirs(dest_dir, exist_ok=True)\n",
    "\n",
    "            for i, img in enumerate(images):\n",
    "                phase = 'train' if i < split_index else 'val'\n",
    "                src_path = os.path.join(breed_path, img)\n",
    "                dest_path = os.path.join(output_dir, phase, class_name, breed, img)\n",
    "                shutil.copy2(src_path, dest_path)\n",
    "\n",
    "    print(\" Dataset split completed successfully!\")\n",
    "\n",
    "#  Call the function with correct Windows paths\n",
    "split_dataset(\n",
    "    r\"D:\\cattle\\Cow_VS_Buffalo\",    # Original dataset folder\n",
    "    r\"D:\\cattle\\dataset_split\",     # Output folder for train/val\n",
    "    split_ratio=0.8                 # 80% train, 20% val\n",
    ")\n"
   ]
  },
  {
   "cell_type": "code",
   "execution_count": 2,
   "id": "780a2f8d-ffa5-43cb-81f3-59134a5d41be",
   "metadata": {},
   "outputs": [
    {
     "name": "stdout",
     "output_type": "stream",
     "text": [
      "Found 4724 files belonging to 2 classes.\n",
      "Found 1202 files belonging to 2 classes.\n",
      "Epoch 1/10\n",
      "\u001b[1m148/148\u001b[0m \u001b[32m━━━━━━━━━━━━━━━━━━━━\u001b[0m\u001b[37m\u001b[0m \u001b[1m194s\u001b[0m 1s/step - accuracy: 0.6472 - loss: 0.6650 - val_accuracy: 0.8270 - val_loss: 0.4354\n",
      "Epoch 2/10\n",
      "\u001b[1m148/148\u001b[0m \u001b[32m━━━━━━━━━━━━━━━━━━━━\u001b[0m\u001b[37m\u001b[0m \u001b[1m178s\u001b[0m 1s/step - accuracy: 0.8235 - loss: 0.4282 - val_accuracy: 0.8569 - val_loss: 0.3644\n",
      "Epoch 3/10\n",
      "\u001b[1m148/148\u001b[0m \u001b[32m━━━━━━━━━━━━━━━━━━━━\u001b[0m\u001b[37m\u001b[0m \u001b[1m184s\u001b[0m 1s/step - accuracy: 0.8504 - loss: 0.3515 - val_accuracy: 0.8702 - val_loss: 0.3193\n",
      "Epoch 4/10\n",
      "\u001b[1m148/148\u001b[0m \u001b[32m━━━━━━━━━━━━━━━━━━━━\u001b[0m\u001b[37m\u001b[0m \u001b[1m181s\u001b[0m 1s/step - accuracy: 0.8724 - loss: 0.3108 - val_accuracy: 0.8860 - val_loss: 0.2901\n",
      "Epoch 5/10\n",
      "\u001b[1m148/148\u001b[0m \u001b[32m━━━━━━━━━━━━━━━━━━━━\u001b[0m\u001b[37m\u001b[0m \u001b[1m180s\u001b[0m 1s/step - accuracy: 0.8826 - loss: 0.2847 - val_accuracy: 0.8968 - val_loss: 0.2705\n",
      "Epoch 6/10\n",
      "\u001b[1m148/148\u001b[0m \u001b[32m━━━━━━━━━━━━━━━━━━━━\u001b[0m\u001b[37m\u001b[0m \u001b[1m185s\u001b[0m 1s/step - accuracy: 0.9028 - loss: 0.2506 - val_accuracy: 0.9052 - val_loss: 0.2568\n",
      "Epoch 7/10\n",
      "\u001b[1m148/148\u001b[0m \u001b[32m━━━━━━━━━━━━━━━━━━━━\u001b[0m\u001b[37m\u001b[0m \u001b[1m208s\u001b[0m 1s/step - accuracy: 0.9069 - loss: 0.2356 - val_accuracy: 0.9126 - val_loss: 0.2462\n",
      "Epoch 8/10\n",
      "\u001b[1m148/148\u001b[0m \u001b[32m━━━━━━━━━━━━━━━━━━━━\u001b[0m\u001b[37m\u001b[0m \u001b[1m183s\u001b[0m 1s/step - accuracy: 0.9109 - loss: 0.2309 - val_accuracy: 0.9126 - val_loss: 0.2378\n",
      "Epoch 9/10\n",
      "\u001b[1m148/148\u001b[0m \u001b[32m━━━━━━━━━━━━━━━━━━━━\u001b[0m\u001b[37m\u001b[0m \u001b[1m183s\u001b[0m 1s/step - accuracy: 0.9192 - loss: 0.2192 - val_accuracy: 0.9151 - val_loss: 0.2320\n",
      "Epoch 10/10\n",
      "\u001b[1m148/148\u001b[0m \u001b[32m━━━━━━━━━━━━━━━━━━━━\u001b[0m\u001b[37m\u001b[0m \u001b[1m185s\u001b[0m 1s/step - accuracy: 0.9196 - loss: 0.2114 - val_accuracy: 0.9193 - val_loss: 0.2259\n"
     ]
    },
    {
     "name": "stderr",
     "output_type": "stream",
     "text": [
      "WARNING:absl:You are saving your model as an HDF5 file via `model.save()` or `keras.saving.save_model(model)`. This file format is considered legacy. We recommend using instead the native Keras format, e.g. `model.save('my_model.keras')` or `keras.saving.save_model(model, 'my_model.keras')`. \n"
     ]
    },
    {
     "name": "stdout",
     "output_type": "stream",
     "text": [
      "✅ Model saved.\n"
     ]
    }
   ],
   "source": [
    "import tensorflow as tf\n",
    "from tensorflow.keras.preprocessing import image_dataset_from_directory\n",
    "from tensorflow.keras import layers, models\n",
    "import os\n",
    "\n",
    "# Path to split dataset\n",
    "dataset_dir = r\"D:\\cattle\\dataset_split\"\n",
    "\n",
    "# Parameters\n",
    "img_size = (224, 224)\n",
    "batch_size = 32\n",
    "AUTOTUNE = tf.data.AUTOTUNE\n",
    "\n",
    "# Load datasets\n",
    "train_ds = image_dataset_from_directory(\n",
    "    os.path.join(dataset_dir, \"train\"),\n",
    "    labels=\"inferred\",\n",
    "    label_mode=\"int\",  # integer labels for binary classification (0 or 1)\n",
    "    image_size=img_size,\n",
    "    batch_size=batch_size,\n",
    "    shuffle=True\n",
    ")\n",
    "\n",
    "val_ds = image_dataset_from_directory(\n",
    "    os.path.join(dataset_dir, \"val\"),\n",
    "    labels=\"inferred\",\n",
    "    label_mode=\"int\",\n",
    "    image_size=img_size,\n",
    "    batch_size=batch_size\n",
    ")\n",
    "\n",
    "# Improve performance\n",
    "train_ds = train_ds.prefetch(buffer_size=AUTOTUNE)\n",
    "val_ds = val_ds.prefetch(buffer_size=AUTOTUNE)\n",
    "\n",
    "# Data Augmentation\n",
    "data_augmentation = tf.keras.Sequential([\n",
    "    layers.RandomFlip(\"horizontal\"),\n",
    "    layers.RandomRotation(0.1),\n",
    "    layers.RandomZoom(0.1),\n",
    "])\n",
    "\n",
    "# Base model (pretrained MobileNetV2)\n",
    "base_model = tf.keras.applications.MobileNetV2(\n",
    "    input_shape=img_size + (3,),\n",
    "    include_top=False,\n",
    "    weights=\"imagenet\"\n",
    ")\n",
    "base_model.trainable = False  # ❌ Don't fine-tune deeper layers\n",
    "\n",
    "# Build model\n",
    "inputs = layers.Input(shape=img_size + (3,))\n",
    "x = data_augmentation(inputs)\n",
    "x = tf.keras.applications.mobilenet_v2.preprocess_input(x)\n",
    "x = base_model(x, training=False)\n",
    "x = layers.GlobalAveragePooling2D()(x)\n",
    "x = layers.Dropout(0.3)(x)\n",
    "outputs = layers.Dense(1, activation='sigmoid')(x)  # Binary output\n",
    "\n",
    "model = tf.keras.Model(inputs, outputs)\n",
    "\n",
    "# Compile\n",
    "model.compile(\n",
    "    optimizer=tf.keras.optimizers.Adam(learning_rate=1e-4),\n",
    "    loss='binary_crossentropy',\n",
    "    metrics=['accuracy']\n",
    ")\n",
    "\n",
    "# Train\n",
    "history = model.fit(\n",
    "    train_ds,\n",
    "    validation_data=val_ds,\n",
    "    epochs=10\n",
    ")\n",
    "\n",
    "# Save model (both formats)\n",
    "model.save(\"buffalo_vs_cow_model.h5\")       # HDF5 format\n",
    "model.save(\"buffalo_vs_cow_model.keras\")    # Recommended format\n",
    "print(\" Model saved.\")\n",
    "\n",
    "\n",
    "\n",
    "\n",
    "# # Optionally fine-tune deeper layers\n",
    "# base_model.trainable = True\n",
    "# model.compile(\n",
    "#     optimizer=tf.keras.optimizers.Adam(1e-5),  # Lower LR\n",
    "#     loss='binary_crossentropy',\n",
    "#     metrics=['accuracy']\n",
    "# )\n",
    "# fine_tune_epochs = 5\n",
    "# model.fit(train_ds, validation_data=val_ds, epochs=fine_tune_epochs)"
   ]
  },
  {
   "cell_type": "code",
   "execution_count": null,
   "id": "ded5847e-e7d2-48b9-bac5-51a5648a1fb7",
   "metadata": {},
   "outputs": [],
   "source": []
  },
  {
   "cell_type": "code",
   "execution_count": null,
   "id": "3b243905-b5f7-44d9-be80-834a812ca4dc",
   "metadata": {},
   "outputs": [],
   "source": [
    "how to use the model"
   ]
  },
  {
   "cell_type": "code",
   "execution_count": 3,
   "id": "4e2617f5-807e-4d78-b2cc-abd33bc3bc3b",
   "metadata": {},
   "outputs": [
    {
     "name": "stdout",
     "output_type": "stream",
     "text": [
      "\u001b[1m1/1\u001b[0m \u001b[32m━━━━━━━━━━━━━━━━━━━━\u001b[0m\u001b[37m\u001b[0m \u001b[1m4s\u001b[0m 4s/step\n",
      "buffalo\n"
     ]
    }
   ],
   "source": [
    "from tensorflow.keras.preprocessing import image\n",
    "import numpy as np\n",
    "import tensorflow as tf\n",
    "from tensorflow.keras.preprocessing import image_dataset_from_directory\n",
    "from tensorflow.keras import layers, models\n",
    "import os\n",
    "\n",
    "\n",
    "def predict_image(path, model):\n",
    "    img = image.load_img(path, target_size=(224, 224))\n",
    "    img_array = image.img_to_array(img)\n",
    "    # img_array = tf.keras.applications.mobilenet_v2.preprocess_input(img_array)    //////  this convertion loses the data and give wrong pridiction\n",
    "    img_array = tf.expand_dims(img_array, 0)\n",
    "    prediction = model.predict(img_array)[0][0]\n",
    "    return \"buffalo\" if prediction < 0.5 else \"cow\"\n",
    "\n",
    "# Example:\n",
    "model = tf.keras.models.load_model(\"buffalo_vs_cow_model.keras\")\n",
    "print(predict_image(\"nagpuri.png\", model))\n"
   ]
  },
  {
   "cell_type": "code",
   "execution_count": null,
   "id": "96137a02-3367-4a86-8ab4-ee6619f9a3c6",
   "metadata": {},
   "outputs": [],
   "source": [
    "model.summary()"
   ]
  }
 ],
 "metadata": {
  "kernelspec": {
   "display_name": "Python 3 (ipykernel)",
   "language": "python",
   "name": "python3"
  },
  "language_info": {
   "codemirror_mode": {
    "name": "ipython",
    "version": 3
   },
   "file_extension": ".py",
   "mimetype": "text/x-python",
   "name": "python",
   "nbconvert_exporter": "python",
   "pygments_lexer": "ipython3",
   "version": "3.12.5"
  }
 },
 "nbformat": 4,
 "nbformat_minor": 5
}
