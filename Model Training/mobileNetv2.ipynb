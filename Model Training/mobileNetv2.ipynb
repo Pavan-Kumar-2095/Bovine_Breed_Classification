{
 "cells": [
  {
   "cell_type": "code",
   "execution_count": null,
   "id": "b52fe83c-c39a-4a0c-a455-9925600ff89a",
   "metadata": {},
   "outputs": [],
   "source": [
    "from tensorflow.keras.utils import get_file\n",
    "\n",
    "model_path = get_file(\n",
    "    fname=\"mobilenet_v2_weights_tf_dim_ordering_tf_kernels_1.0_224.h5\",\n",
    "    origin=\"https://storage.googleapis.com/tensorflow/keras-applications/mobilenet_v2/mobilenet_v2_weights_tf_dim_ordering_tf_kernels_1.0_224.h5\",\n",
    "    cache_subdir=\"models\"\n",
    ")\n",
    "\n",
    "print(\"Model weights are stored at:\", model_path)\n"
   ]
  },
  {
   "cell_type": "code",
   "execution_count": 4,
   "id": "b83c10c7-f1ff-4fd7-817e-a285e825d9ec",
   "metadata": {},
   "outputs": [
    {
     "name": "stdout",
     "output_type": "stream",
     "text": [
      "\u001b[1m1/1\u001b[0m \u001b[32m━━━━━━━━━━━━━━━━━━━━\u001b[0m\u001b[37m\u001b[0m \u001b[1m2s\u001b[0m 2s/step\n",
      "1. water_buffalo (46.63%)\n",
      "2. ox (44.37%)\n",
      "3. hartebeest (2.10%)\n"
     ]
    }
   ],
   "source": [
    "import tensorflow as tf\n",
    "from tensorflow.keras.applications import MobileNetV2\n",
    "from tensorflow.keras.applications.mobilenet_v2 import preprocess_input, decode_predictions\n",
    "from tensorflow.keras.preprocessing import image\n",
    "import numpy as np\n",
    "\n",
    "# Load the pretrained MobileNetV2 model + weights\n",
    "model = MobileNetV2(weights=\"imagenet\")\n",
    "\n",
    "def check_image(img_path):\n",
    "    # Load image with target size for MobileNetV2\n",
    "    img = image.load_img(img_path, target_size=(224, 224))\n",
    "\n",
    "    # Convert image to numpy array\n",
    "    x = image.img_to_array(img)\n",
    "\n",
    "    # Add batch dimension (1, 224, 224, 3)\n",
    "    x = np.expand_dims(x, axis=0)\n",
    "\n",
    "    # Preprocess input for MobileNet\n",
    "    x = preprocess_input(x)\n",
    "\n",
    "    # Run inference\n",
    "    preds = model.predict(x)\n",
    "\n",
    "    # Decode predictions to human-readable labels\n",
    "    decoded = decode_predictions(preds, top=3)[0]\n",
    "\n",
    "    return decoded\n",
    "\n",
    "\n",
    "# Example usage\n",
    "if __name__ == \"__main__\":\n",
    "    img_path = \"nagpuri.png\"  # replace with your local image path\n",
    "    predictions = check_image(img_path)\n",
    "    for i, (imagenet_id, label, score) in enumerate(predictions):\n",
    "        print(f\"{i+1}. {label} ({score*100:.2f}%)\")\n"
   ]
  }
 ],
 "metadata": {
  "kernelspec": {
   "display_name": "Python 3 (ipykernel)",
   "language": "python",
   "name": "python3"
  },
  "language_info": {
   "codemirror_mode": {
    "name": "ipython",
    "version": 3
   },
   "file_extension": ".py",
   "mimetype": "text/x-python",
   "name": "python",
   "nbconvert_exporter": "python",
   "pygments_lexer": "ipython3",
   "version": "3.12.5"
  }
 },
 "nbformat": 4,
 "nbformat_minor": 5
}
